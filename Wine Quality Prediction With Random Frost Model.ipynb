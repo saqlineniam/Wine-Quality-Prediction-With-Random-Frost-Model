{
 "cells": [
  {
   "cell_type": "code",
   "execution_count": null,
   "id": "cedb79ed",
   "metadata": {},
   "outputs": [],
   "source": [
    "import pandas as pd"
   ]
  },
  {
   "cell_type": "code",
   "execution_count": null,
   "id": "a6a0b5a2",
   "metadata": {},
   "outputs": [],
   "source": [
    "df = pd.read_csv(r'winequality-red.csv')"
   ]
  },
  {
   "cell_type": "code",
   "execution_count": null,
   "id": "e4eace62",
   "metadata": {},
   "outputs": [],
   "source": [
    "df.head()"
   ]
  }
 ],
 "metadata": {
  "kernelspec": {
   "display_name": "base",
   "language": "python",
   "name": "python3"
  },
  "language_info": {
   "name": "python",
   "version": "3.12.7"
  }
 },
 "nbformat": 4,
 "nbformat_minor": 5
}
